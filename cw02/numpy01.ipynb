{
 "cells": [
  {
   "cell_type": "code",
   "execution_count": 25,
   "metadata": {},
   "outputs": [],
   "source": [
    "import numpy as np\n",
    "import matplotlib.pylab as plt"
   ]
  },
  {
   "cell_type": "code",
   "execution_count": 26,
   "metadata": {},
   "outputs": [
    {
     "name": "stdout",
     "output_type": "stream",
     "text": [
      "<class 'list'>\n",
      "<class 'numpy.ndarray'>\n",
      "Type a = int32\n",
      "Size a = (5,)\n"
     ]
    }
   ],
   "source": [
    "l = [32,54,22,76,2]\n",
    "print(type(l))\n",
    "\n",
    "a = np.array(l) #konwersja do numpy\n",
    "print(type(a))\n",
    "\n",
    "print('Type a = {}'.format(a.dtype.name))\n",
    "print('Size a = {}'.format(a.shape))"
   ]
  },
  {
   "cell_type": "code",
   "execution_count": 27,
   "metadata": {},
   "outputs": [
    {
     "name": "stdout",
     "output_type": "stream",
     "text": [
      "Type d = float64\n",
      "Wymiary d = (2, 3)\n",
      "[[1.5 2.  3. ]\n",
      " [4.  5.  6. ]]\n"
     ]
    }
   ],
   "source": [
    "d = np.array([[1.5,2,3], [4,5,6]], np.float64)\n",
    "print('Type d = {}'.format(d.dtype.name))\n",
    "print('Wymiary d = {}'.format(d.shape))\n",
    "print(d)"
   ]
  },
  {
   "cell_type": "code",
   "execution_count": 28,
   "metadata": {},
   "outputs": [
    {
     "name": "stdout",
     "output_type": "stream",
     "text": [
      "[0 1 2 3 4 5]\n"
     ]
    }
   ],
   "source": [
    "e = np.zeros(6)\n",
    "e = np.ones(6)\n",
    "e = np.arange(6)\n",
    "print(e)"
   ]
  },
  {
   "cell_type": "code",
   "execution_count": 29,
   "metadata": {},
   "outputs": [
    {
     "name": "stdout",
     "output_type": "stream",
     "text": [
      "[[0 1]\n",
      " [2 3]\n",
      " [4 5]]\n",
      "[[0 1 2]\n",
      " [3 4 5]]\n"
     ]
    }
   ],
   "source": [
    "e = e.reshape(3, 2)\n",
    "print(e)\n",
    "f = e.reshape(2, 3)\n",
    "print(f)"
   ]
  },
  {
   "cell_type": "code",
   "execution_count": 30,
   "metadata": {},
   "outputs": [
    {
     "name": "stdout",
     "output_type": "stream",
     "text": [
      "\n",
      "multiplication\n",
      " [[ 4.  5.  6.]\n",
      " [15. 19. 24.]\n",
      " [26. 33. 42.]]\n",
      "[[ 4.  5.  6.]\n",
      " [15. 19. 24.]\n",
      " [26. 33. 42.]]\n",
      "[[ 4.  5.  6.]\n",
      " [15. 19. 24.]]\n",
      "[ 5. 19. 33.]\n",
      "[26. 33. 42.]\n"
     ]
    }
   ],
   "source": [
    "#print(d)\n",
    "#print(f)\n",
    "#print(e)\n",
    "#print(d+f)\n",
    "#print(d*f) #mnożymy elemny macierzy\n",
    "g = e@d  #matrix multiplication\n",
    "print('\\nmultiplication\\n', np.dot(e, d))\n",
    "print(g)\n",
    "print(g[0:2,:])\n",
    "print(g[:,1])\n",
    "print(g[2,:])"
   ]
  },
  {
   "cell_type": "code",
   "execution_count": 31,
   "metadata": {},
   "outputs": [
    {
     "name": "stdout",
     "output_type": "stream",
     "text": [
      "[[0 1]\n",
      " [2 3]\n",
      " [4 5]]\n",
      "transpose\n",
      " [[0 2 4]\n",
      " [1 3 5]]\n",
      "(3, 2)\n",
      "(2, 3)\n"
     ]
    }
   ],
   "source": [
    "import scipy.linalg as linalg\n",
    "print(e)\n",
    "print('transpose\\n', e.T)\n",
    "h = np.transpose(e)\n",
    "print(e.shape)\n",
    "print(h.shape)"
   ]
  },
  {
   "cell_type": "code",
   "execution_count": 32,
   "metadata": {},
   "outputs": [
    {
     "name": "stdout",
     "output_type": "stream",
     "text": [
      "[[0 2 4]\n",
      " [1 3 5]]\n",
      "[[-1.08333333 -0.33333333  0.41666667]\n",
      " [ 0.83333333  0.33333333 -0.16666667]]\n"
     ]
    }
   ],
   "source": [
    "print(h)\n",
    "h = np.linalg.inv(h@np.transpose(h))\n",
    "h = np.linalg.pinv(e)\n",
    "print(h)"
   ]
  },
  {
   "cell_type": "code",
   "execution_count": 33,
   "metadata": {},
   "outputs": [
    {
     "name": "stdout",
     "output_type": "stream",
     "text": [
      "[0 1 2 3]\n",
      "[1. 1. 1. 1.]\n",
      "[0. 1. 2. 3. 1. 1. 1. 1.]\n",
      "[[0. 1. 2. 3.]\n",
      " [1. 1. 1. 1.]]\n"
     ]
    }
   ],
   "source": [
    "x = np.arange(4)\n",
    "print(x)\n",
    "#print(x*x)\n",
    "#print(x**3)\n",
    "print(np.ones(x.shape))\n",
    "\n",
    "z1 = np.hstack([x, np.ones(x.shape)])\n",
    "print(z1)\n",
    "z2 = np.vstack([x, np.ones(x.shape)])\n",
    "print(z2)"
   ]
  },
  {
   "cell_type": "code",
   "execution_count": 34,
   "metadata": {},
   "outputs": [
    {
     "name": "stdout",
     "output_type": "stream",
     "text": [
      "[[ 15.     2.75]\n",
      " [ 20.     2.6 ]\n",
      " [ 30.     2.  ]\n",
      " [ 40.     1.6 ]\n",
      " [ 50.     1.25]\n",
      " [ 60.     1.05]\n",
      " [ 70.     0.9 ]\n",
      " [ 80.     0.8 ]\n",
      " [ 90.     0.75]\n",
      " [100.     0.68]\n",
      " [110.     0.6 ]\n",
      " [120.     0.55]\n",
      " [130.     0.5 ]\n",
      " [140.     0.48]\n",
      " [150.     0.45]]\n",
      "[[2.75]\n",
      " [2.6 ]\n",
      " [2.  ]\n",
      " [1.6 ]\n",
      " [1.25]\n",
      " [1.05]\n",
      " [0.9 ]\n",
      " [0.8 ]\n",
      " [0.75]\n",
      " [0.68]\n",
      " [0.6 ]\n",
      " [0.55]\n",
      " [0.5 ]\n",
      " [0.48]\n",
      " [0.45]]\n",
      "[[ 15.]\n",
      " [ 20.]\n",
      " [ 30.]\n",
      " [ 40.]\n",
      " [ 50.]\n",
      " [ 60.]\n",
      " [ 70.]\n",
      " [ 80.]\n",
      " [ 90.]\n",
      " [100.]\n",
      " [110.]\n",
      " [120.]\n",
      " [130.]\n",
      " [140.]\n",
      " [150.]]\n"
     ]
    }
   ],
   "source": [
    "a = np.loadtxt('Sharp_char.txt')\n",
    "print(a)\n",
    "x = a[:,[1]]\n",
    "y = a[:,[0]]\n",
    "print(x)\n",
    "print(y)"
   ]
  },
  {
   "cell_type": "code",
   "execution_count": 35,
   "metadata": {},
   "outputs": [
    {
     "data": {
      "text/plain": "<Figure size 432x288 with 1 Axes>",
      "image/png": "[encoded data removed]"
     },
     "metadata": {
      "needs_background": "light"
     },
     "output_type": "display_data"
    }
   ],
   "source": [
    "import matplotlib.pyplot as plt\n",
    "plt.plot(x,y, 'r*')\n",
    "plt.xlabel('voltage')\n",
    "plt.ylabel('distance')\n",
    "plt.title('Sensor characteristic')\n",
    "plt.show()"
   ]
  },
  {
   "cell_type": "code",
   "execution_count": 36,
   "metadata": {},
   "outputs": [
    {
     "name": "stdout",
     "output_type": "stream",
     "text": [
      "[11  4 17 17 15  7  3  2 19  2  7  5 16 14  7 15  7  3 13  8]\n"
     ]
    },
    {
     "data": {
      "text/plain": "[<matplotlib.lines.Line2D at 0x20c3fb52520>]"
     },
     "execution_count": 36,
     "metadata": {},
     "output_type": "execute_result"
    },
    {
     "data": {
      "text/plain": "<Figure size 432x288 with 1 Axes>",
      "image/png": "[encoded data removed]"
     },
     "metadata": {
      "needs_background": "light"
     },
     "output_type": "display_data"
    }
   ],
   "source": [
    "x1 = np.random.randint(20, size=(20,))\n",
    "print(x1)\n",
    "x2 = x1*x1\n",
    "plt.plot(x1, x2,'r*')\n",
    "plt.plot(x1, x2)"
   ]
  },
  {
   "cell_type": "code",
   "execution_count": 38,
   "outputs": [
    {
     "data": {
      "text/plain": "<Figure size 432x288 with 1 Axes>",
      "image/png": "[encoded data removed]"
     },
     "metadata": {
      "needs_background": "light"
     },
     "output_type": "display_data"
    }
   ],
   "source": [
    "plt.plot(x,y)\n",
    "plt.xlabel('voltage')\n",
    "plt.ylabel('distance')\n",
    "plt.title('Sensor characteristic')\n",
    "plt.show()"
   ],
   "metadata": {
    "collapsed": false,
    "pycharm": {
     "name": "#%%\n"
    }
   }
  }
 ],
 "metadata": {
  "kernelspec": {
   "display_name": "Python 3",
   "language": "python",
   "name": "python3"
  },
  "language_info": {
   "codemirror_mode": {
    "name": "ipython",
    "version": 3
   },
   "file_extension": ".py",
   "mimetype": "text/x-python",
   "name": "python",
   "nbconvert_exporter": "python",
   "pygments_lexer": "ipython3",
   "version": "3.8.5"
  }
 },
 "nbformat": 4,
 "nbformat_minor": 4
}